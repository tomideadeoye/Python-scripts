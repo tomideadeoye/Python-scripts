{
 "cells": [
  {
   "cell_type": "code",
   "execution_count": 81,
   "metadata": {},
   "outputs": [],
   "source": [
    "import pandas as pd\n",
    "import calendar\n",
    "from os.path import splitext, exists, join\n",
    "from os import scandir, rename\n",
    "from shutil import move\n",
    "from time import sleep\n",
    "import logging\n",
    "import os"
   ]
  },
  {
   "cell_type": "code",
   "execution_count": 84,
   "metadata": {},
   "outputs": [],
   "source": [
    "def parseLogic(file):\n",
    "    category = pd.read_csv(file)\n",
    "    category.sample(10)\n",
    "    list(category.columns)\n",
    "    category = category.drop(['id','name','business_profile', 'business_type', 'currency',\n",
    "    'tax_identification_number', 'address', 'city', 'country', 'postal_code', 'email',\n",
    "    'photo','updated_at'], axis=1, inplace=False)\n",
    "\n",
    "    category = category[category['created_at'] >= '2022-01-01']\n",
    "    category['created_at'] = pd.to_datetime(category['created_at'])\n",
    "    category['month'] = category['created_at'].dt.month\n",
    "    category['month'] = category['month'].apply(lambda x: calendar.month_abbr[x])\n",
    "    number_per_month = category.groupby('month').count()\n",
    "    number_per_month.to_csv( \"1\" + file)\n",
    "lookForCsv = [\".csv\"]    \n",
    "dest_dir_dart = \"dukkabusinesscategory/csvFile/analysedcsv\"\n",
    "def make_unique(dest, name):\n",
    "    filename, extension = splitext(name)\n",
    "    counter = 1\n",
    "    # * IF FILE EXISTS, ADDS NUMBER TO THE END OF THE FILENAME\n",
    "    while exists(f\"{dest}/{name}\"):\n",
    "        name = f\"{filename}({str(counter)}){extension}\"\n",
    "        counter += 1\n",
    "\n",
    "    return name\n",
    "\n",
    "def move_file(dest, entry, name):\n",
    "    if exists(f\"{dest}/{name}\"):\n",
    "        unique_name = make_unique(dest, name)\n",
    "        oldName = join(dest, name)\n",
    "        newName = join(dest, unique_name)\n",
    "        rename(oldName, newName)\n",
    "    move(entry, dest)\n",
    "\n",
    "\n",
    "def check_dart_files(entry, name):  # * Checks all dart Files\n",
    "    print(entry)\n",
    "    for csvExtensions in lookForCsv:\n",
    "        if name.endswith(csvExtensions) or name.endswith(csvExtensions.upper()):\n",
    "            parseLogic(entry)\n",
    "            # move_file(dest_dir_dart, entry, name)\n",
    "            logging.info(f\"Moved dart file: {name}\")\n",
    "\n",
    "\n",
    "obj = os.scandir(\"/Users/tomideisawesome/Documents/GitHub/TomsWebScrapingCargo/dukkabusinesscategory\")\n",
    "for entry in obj:\n",
    "    if entry.is_file():\n",
    "        check_dart_files(entry, entry.name)\n"
   ]
  },
  {
   "cell_type": "code",
   "execution_count": 91,
   "metadata": {},
   "outputs": [],
   "source": [
    "mylist = ['Sports and Outdoors.csv',\n",
    " 'Arts and Craft.csv',\n",
    " 'baby, toy and gifts.csv',\n",
    " 'Pets & accessories.csv',\n",
    " 'Electronics.csv',\n",
    " 'Computers.csv',\n",
    " 'home and office.csv',\n",
    " 'Helath and Pharmacy.csv',\n",
    " 'Supermarket.csv',\n",
    " 'Gaming.csv',\n",
    " 'Others.csv',\n",
    " 'Beauty & Personal care.csv',\n",
    " 'Books, Movies & News.csv',\n",
    " 'Cafe and Restaurant.csv',\n",
    " 'Jewellery.csv',\n",
    " 'Luggage.csv',\n",
    " 'Food and Drink.csv',\n",
    " 'Service & Consulting.csv',\n",
    " 'Automotives.csv',\n",
    " 'Phone and Tablet.csv',\n",
    " 'Industrial Tools.csv',\n",
    " 'Fashion.csv',\n",
    " 'Online Store.csv']\n",
    "\n",
    "for i in mylist:\n",
    "    parseLogic(i)"
   ]
  },
  {
   "cell_type": "code",
   "execution_count": 89,
   "metadata": {},
   "outputs": [
    {
     "name": "stdout",
     "output_type": "stream",
     "text": [
      "<posix.ScandirIterator object at 0x11e3f5030>\n",
      "Sports and Outdoors.csv\n",
      "Arts and Craft.csv\n",
      "baby, toy and gifts.csv\n",
      "Pets & accessories.csv\n",
      "Electronics.csv\n",
      "dukkanalysis.ipynb\n",
      "Computers.csv\n",
      "home and office.csv\n",
      "Helath and Pharmacy.csv\n",
      "Supermarket.csv\n",
      "Gaming.csv\n",
      "Others.csv\n",
      "Beauty & Personal care.csv\n",
      "Books, Movies & News.csv\n",
      "Cafe and Restaurant.csv\n",
      "Jewellery.csv\n",
      "Luggage.csv\n",
      "Food and Drink.csv\n",
      "Service & Consulting.csv\n",
      "Automotives.csv\n",
      "Phone and Tablet.csv\n",
      "Industrial Tools.csv\n",
      "Fashion.csv\n",
      "Online Store.csv\n"
     ]
    }
   ],
   "source": [
    "obj = os.scandir(\"/Users/tomideisawesome/Documents/GitHub/TomsWebScrapingCargo/dukkabusinesscategory/csvFile/\")\n",
    "\n",
    "myList = []\n",
    "print(obj)\n",
    "for entry in obj:\n",
    "    if entry.is_file():\n",
    "        # check_dart_files(entry, entry.name)\n",
    "        print(entry.name)\n",
    "        myList.append(entry.name)"
   ]
  },
  {
   "cell_type": "code",
   "execution_count": 90,
   "metadata": {},
   "outputs": [
    {
     "data": {
      "text/plain": [
       "['Sports and Outdoors.csv',\n",
       " 'Arts and Craft.csv',\n",
       " 'baby, toy and gifts.csv',\n",
       " 'Pets & accessories.csv',\n",
       " 'Electronics.csv',\n",
       " 'dukkanalysis.ipynb',\n",
       " 'Computers.csv',\n",
       " 'home and office.csv',\n",
       " 'Helath and Pharmacy.csv',\n",
       " 'Supermarket.csv',\n",
       " 'Gaming.csv',\n",
       " 'Others.csv',\n",
       " 'Beauty & Personal care.csv',\n",
       " 'Books, Movies & News.csv',\n",
       " 'Cafe and Restaurant.csv',\n",
       " 'Jewellery.csv',\n",
       " 'Luggage.csv',\n",
       " 'Food and Drink.csv',\n",
       " 'Service & Consulting.csv',\n",
       " 'Automotives.csv',\n",
       " 'Phone and Tablet.csv',\n",
       " 'Industrial Tools.csv',\n",
       " 'Fashion.csv',\n",
       " 'Online Store.csv']"
      ]
     },
     "execution_count": 90,
     "metadata": {},
     "output_type": "execute_result"
    }
   ],
   "source": [
    "myList"
   ]
  }
 ],
 "metadata": {
  "kernelspec": {
   "display_name": "Python 3.9.15 ('venv': venv)",
   "language": "python",
   "name": "python3"
  },
  "language_info": {
   "codemirror_mode": {
    "name": "ipython",
    "version": 3
   },
   "file_extension": ".py",
   "mimetype": "text/x-python",
   "name": "python",
   "nbconvert_exporter": "python",
   "pygments_lexer": "ipython3",
   "version": "3.9.15"
  },
  "orig_nbformat": 4,
  "vscode": {
   "interpreter": {
    "hash": "fdc41f0eadf12055021ad23f87a8a9ee8e96f5c00b057f56ee298e5db47363e5"
   }
  }
 },
 "nbformat": 4,
 "nbformat_minor": 2
}
